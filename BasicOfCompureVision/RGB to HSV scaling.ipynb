{
 "cells": [
  {
   "cell_type": "code",
   "execution_count": 1,
   "metadata": {
    "collapsed": true
   },
   "outputs": [],
   "source": [
    "#import libraries\n",
    "import cv2\n",
    "import numpy as np\n"
   ]
  },
  {
   "cell_type": "code",
   "execution_count": 2,
   "metadata": {
    "collapsed": true
   },
   "outputs": [],
   "source": [
    "image=cv2.imread('boss.jpg')\n",
    "cv2.imshow('orginal',image)\n",
    "cv2.waitKey(0)\n",
    "cv2.destroyAllWindows()"
   ]
  },
  {
   "cell_type": "markdown",
   "metadata": {},
   "source": [
    "## Individual color level"
   ]
  },
  {
   "cell_type": "code",
   "execution_count": 3,
   "metadata": {},
   "outputs": [
    {
     "name": "stdout",
     "output_type": "stream",
     "text": [
      "54 112 83\n",
      "RGB image dimension: (1080, 1440, 3)\n"
     ]
    }
   ],
   "source": [
    "# print individual pixelvalue of three channel\n",
    "B,G,R=image[0,0]\n",
    "print(B,G,R)\n",
    "#print dimension of image[height,width,depth]\n",
    "print('RGB image dimension:',image.shape)"
   ]
  },
  {
   "cell_type": "code",
   "execution_count": 4,
   "metadata": {},
   "outputs": [
    {
     "name": "stdout",
     "output_type": "stream",
     "text": [
      "value of pixel(0,0) : 97\n",
      "Gray image dimension:  (1080, 1440)\n"
     ]
    }
   ],
   "source": [
    "#what happend if we convert gray scale\n",
    "gray_image=cv2.cvtColor(image,cv2.COLOR_BGR2GRAY)\n",
    "cv2.imshow('gray scale',gray_image)\n",
    "cv2.waitKey(0)\n",
    "cv2.destroyAllWindows()\n",
    "#print individual pixel value of gray image(1dimension only)\n",
    "V=gray_image[0,0]\n",
    "print('value of pixel(0,0) :',V)\n",
    "#print dimension of image[height,width]\n",
    "print('Gray image dimension: ',gray_image.shape)"
   ]
  },
  {
   "cell_type": "markdown",
   "metadata": {},
   "source": [
    "## Color space of HSV"
   ]
  },
  {
   "cell_type": "code",
   "execution_count": 5,
   "metadata": {},
   "outputs": [
    {
     "name": "stdout",
     "output_type": "stream",
     "text": [
      "Dimension of image in hsv scale : (1080, 1440, 3)\n"
     ]
    }
   ],
   "source": [
    "#what happend if we convert hsv scale\n",
    "hsv_image=cv2.cvtColor(image,cv2.COLOR_BGR2HSV)\n",
    "cv2.imshow('hsv image',hsv_image)\n",
    "cv2.imshow('Hue channel: ',hsv_image[:,:,0])\n",
    "cv2.imshow('Saturation channel: ',hsv_image[:,:,1])\n",
    "cv2.imshow('Value channel: ',hsv_image[:,:,2])\n",
    "cv2.waitKey(0)\n",
    "cv2.destroyAllWindows()\n",
    "#print dimension of image in hsv scale\n",
    "print('Dimension of image in hsv scale :',hsv_image.shape)"
   ]
  },
  {
   "cell_type": "code",
   "execution_count": 6,
   "metadata": {
    "collapsed": true
   },
   "outputs": [],
   "source": [
    "# RGB image split in individual channel\n",
    "cv2.imshow('blue channel: ',image[:,:,0])\n",
    "cv2.imshow('green channel: ',image[:,:,1])\n",
    "cv2.imshow('red channel: ',image[:,:,2])\n",
    "cv2.waitKey(0)\n",
    "cv2.destroyAllWindows()"
   ]
  },
  {
   "cell_type": "code",
   "execution_count": 7,
   "metadata": {
    "collapsed": true
   },
   "outputs": [],
   "source": [
    "#another way to split rgb image in individual channel\n",
    "B,G,R=cv2.split(image)\n",
    "cv2.imshow('blue channel: ',B)\n",
    "cv2.imshow('green channel: ',G)\n",
    "cv2.imshow('red channel: ',R)\n",
    "cv2.waitKey(0)\n",
    "cv2.destroyAllWindows()"
   ]
  },
  {
   "cell_type": "code",
   "execution_count": 8,
   "metadata": {},
   "outputs": [
    {
     "name": "stdout",
     "output_type": "stream",
     "text": [
      "(1080, 1440)\n"
     ]
    }
   ],
   "source": [
    "#print individual channel dimension\n",
    "print(G.shape)"
   ]
  },
  {
   "cell_type": "code",
   "execution_count": 9,
   "metadata": {},
   "outputs": [
    {
     "name": "stdout",
     "output_type": "stream",
     "text": [
      "[ 68 121  88]\n",
      "[ 78 121  88]\n"
     ]
    }
   ],
   "source": [
    "#marge three individual channel for RGB \n",
    "marge_rgb=cv2.merge([B,G,R])\n",
    "cv2.imshow('marge: ',marge_rgb)\n",
    "cv2.waitKey(0)\n",
    "cv2.destroyAllWindows()\n",
    "#marge three individual channel with blue amplifier color\n",
    "marge_rgb=cv2.merge([B+10,G,R])\n",
    "cv2.imshow('marge with amplifier of blue channel: ',marge_rgb)\n",
    "cv2.waitKey(0)\n",
    "cv2.destroyAllWindows()\n",
    "#amplifier means add value with every pixel value\n",
    "print(image[10,10])\n",
    "print(marge_rgb[10,10])\n"
   ]
  },
  {
   "cell_type": "code",
   "execution_count": 12,
   "metadata": {},
   "outputs": [
    {
     "name": "stdout",
     "output_type": "stream",
     "text": [
      "0.0\n",
      "zeros (1080, 1440)\n",
      "chaneel shape (1080, 1440)\n"
     ]
    }
   ],
   "source": [
    "#create a matrix of image and show one dimension of image\n",
    "zeros=np.zeros(image.shape[0:2])\n",
    "print(zeros[10,10])\n",
    "#cv2.imshow('blue',cv2.merge([B,G,R]))\n",
    "cv2.waitKey(0)\n",
    "cv2.destroyAllWindows\n",
    "print('zeros',zeros.shape)\n",
    "print('chaneel shape',R.shape)\n"
   ]
  },
  {
   "cell_type": "code",
   "execution_count": null,
   "metadata": {
    "collapsed": true
   },
   "outputs": [],
   "source": []
  },
  {
   "cell_type": "code",
   "execution_count": null,
   "metadata": {
    "collapsed": true
   },
   "outputs": [],
   "source": []
  }
 ],
 "metadata": {
  "kernelspec": {
   "display_name": "Python 3",
   "language": "python",
   "name": "python3"
  },
  "language_info": {
   "codemirror_mode": {
    "name": "ipython",
    "version": 3
   },
   "file_extension": ".py",
   "mimetype": "text/x-python",
   "name": "python",
   "nbconvert_exporter": "python",
   "pygments_lexer": "ipython3",
   "version": "3.6.3"
  }
 },
 "nbformat": 4,
 "nbformat_minor": 2
}
